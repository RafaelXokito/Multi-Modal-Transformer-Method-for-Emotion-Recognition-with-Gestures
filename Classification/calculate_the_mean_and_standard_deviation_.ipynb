{
 "cells": [
  {
   "cell_type": "code",
   "execution_count": 23,
   "id": "001284ff",
   "metadata": {},
   "outputs": [],
   "source": [
    "#https://www.youtube.com/watch?v=z3kB3ISIPAg&t=14s&ab_channel=ifelsestatement"
   ]
  },
  {
   "cell_type": "code",
   "execution_count": 24,
   "id": "60e71184",
   "metadata": {},
   "outputs": [],
   "source": [
    "import os\n",
    "import torch\n",
    "import torchvision\n",
    "import torchvision.transforms as transforms\n",
    "import PIL"
   ]
  },
  {
   "cell_type": "code",
   "execution_count": 25,
   "id": "77a02c5c",
   "metadata": {},
   "outputs": [
    {
     "data": {
      "text/plain": [
       "['happy', 'contempt', 'sad', 'fear', 'surprise', 'neutral', 'anger', 'disgust']"
      ]
     },
     "execution_count": 25,
     "metadata": {},
     "output_type": "execute_result"
    }
   ],
   "source": [
    "os.listdir('/Users/rafaelpereira/Library/Mobile Documents/com~apple~CloudDocs/Projetos/Bolsa-SAAL-294/Multi-Modal Transformer Method for Emotion Recognition with Gestures/datasets/AffectNet_10Percent_G/test')\n",
    "\n"
   ]
  },
  {
   "cell_type": "code",
   "execution_count": 26,
   "id": "f746b49d",
   "metadata": {},
   "outputs": [
    {
     "data": {
      "text/plain": [
       "'/Users/rafaelpereira/Library/Mobile Documents/com~apple~CloudDocs/Projetos/Bolsa-SAAL-294/Multi-Modal Transformer Method for Emotion Recognition with Gestures/datasets/AffectNet_10Percent_G/test'"
      ]
     },
     "execution_count": 26,
     "metadata": {},
     "output_type": "execute_result"
    }
   ],
   "source": [
    "training_dataset_path='/Users/rafaelpereira/Library/Mobile Documents/com~apple~CloudDocs/Projetos/Bolsa-SAAL-294/Multi-Modal Transformer Method for Emotion Recognition with Gestures/datasets/AffectNet_10Percent_G/test' \n",
    "training_dataset_path"
   ]
  },
  {
   "cell_type": "code",
   "execution_count": 27,
   "id": "1f669739",
   "metadata": {},
   "outputs": [],
   "source": [
    "class ImageFolderRGBA(torchvision.datasets.ImageFolder):\n",
    "    def __getitem__(self, index):\n",
    "        path, target = self.imgs[index]\n",
    "        img = self.loader(path)\n",
    "        if img.mode == 'RGBA':\n",
    "            img = img.convert('RGB')\n",
    "        if self.transform is not None:\n",
    "            img = self.transform(img)\n",
    "        if self.target_transform is not None:\n",
    "            target = self.target_transform(target)\n",
    "        return img, target"
   ]
  },
  {
   "cell_type": "code",
   "execution_count": 28,
   "id": "2f4f4ad1",
   "metadata": {},
   "outputs": [],
   "source": [
    "def customLoader(path):\n",
    "    return PIL.Image.open(path)"
   ]
  },
  {
   "cell_type": "code",
   "execution_count": 29,
   "id": "718cbc35",
   "metadata": {},
   "outputs": [],
   "source": [
    "training_transforms=transforms.Compose([transforms.Resize((224,224)), transforms.ToTensor()]) \n"
   ]
  },
  {
   "cell_type": "code",
   "execution_count": 30,
   "id": "cdff4823",
   "metadata": {},
   "outputs": [],
   "source": [
    "train_dataset = torchvision.datasets.ImageFolder(root = training_dataset_path, transform = training_transforms, loader=lambda path: customLoader(path))\n"
   ]
  },
  {
   "cell_type": "code",
   "execution_count": 31,
   "id": "78debfab",
   "metadata": {},
   "outputs": [],
   "source": [
    "train_loader = torch.utils.data.DataLoader(dataset = train_dataset, batch_size=32, shuffle=False)\n"
   ]
  },
  {
   "cell_type": "code",
   "execution_count": 32,
   "id": "eadf7efc",
   "metadata": {},
   "outputs": [],
   "source": [
    "def get_mean_and_std(loader):\n",
    "    mean =0.\n",
    "    std = 0.\n",
    "    total_images_count = 0\n",
    "    for images, _ in loader:\n",
    "        image_count_in_a_batch = images.size (0)\n",
    "        images = images.view(image_count_in_a_batch, images.size (1), -1)\n",
    "        mean += images.mean (2). sum (0)\n",
    "        std += images.std(2).sum (0)\n",
    "        total_images_count += image_count_in_a_batch\n",
    "        \n",
    "    mean /= total_images_count\n",
    "    std /= total_images_count\n",
    "    return mean, std"
   ]
  },
  {
   "cell_type": "code",
   "execution_count": 33,
   "id": "fa242a69",
   "metadata": {},
   "outputs": [
    {
     "data": {
      "text/plain": [
       "(tensor([0.4569]), tensor([0.2344]))"
      ]
     },
     "execution_count": 33,
     "metadata": {},
     "output_type": "execute_result"
    }
   ],
   "source": [
    "get_mean_and_std(train_loader)\n"
   ]
  }
 ],
 "metadata": {
  "kernelspec": {
   "display_name": "MMTMERG",
   "language": "python",
   "name": "python3"
  },
  "language_info": {
   "codemirror_mode": {
    "name": "ipython",
    "version": 3
   },
   "file_extension": ".py",
   "mimetype": "text/x-python",
   "name": "python",
   "nbconvert_exporter": "python",
   "pygments_lexer": "ipython3",
   "version": "3.8.16"
  },
  "vscode": {
   "interpreter": {
    "hash": "7d3c456ffaa9cd28f83f00357dff394a6c471d38d2284dc7337cbaff2c725068"
   }
  }
 },
 "nbformat": 4,
 "nbformat_minor": 5
}
